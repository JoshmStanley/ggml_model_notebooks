{
  "nbformat": 4,
  "nbformat_minor": 0,
  "metadata": {
    "colab": {
      "provenance": [],
      "machine_shape": "hm",
      "authorship_tag": "ABX9TyPvYtmeY5aEK4qz129pB0Lr",
      "include_colab_link": true
    },
    "kernelspec": {
      "name": "python3",
      "display_name": "Python 3"
    },
    "language_info": {
      "name": "python"
    },
    "widgets": {
      "application/vnd.jupyter.widget-state+json": {
        "ac25421ee40b498c8e055f7c37d9273e": {
          "model_module": "@jupyter-widgets/controls",
          "model_name": "HBoxModel",
          "model_module_version": "1.5.0",
          "state": {
            "_dom_classes": [],
            "_model_module": "@jupyter-widgets/controls",
            "_model_module_version": "1.5.0",
            "_model_name": "HBoxModel",
            "_view_count": null,
            "_view_module": "@jupyter-widgets/controls",
            "_view_module_version": "1.5.0",
            "_view_name": "HBoxView",
            "box_style": "",
            "children": [
              "IPY_MODEL_db6a64cbbce54316b198d16777f5b0b4",
              "IPY_MODEL_6f8763094b3b4192924e9030336daf57",
              "IPY_MODEL_c8f1804d994943ff987c621916ae3275"
            ],
            "layout": "IPY_MODEL_9d66fa5d6c5841a5a56d7a8a2ffa92e2"
          }
        },
        "db6a64cbbce54316b198d16777f5b0b4": {
          "model_module": "@jupyter-widgets/controls",
          "model_name": "HTMLModel",
          "model_module_version": "1.5.0",
          "state": {
            "_dom_classes": [],
            "_model_module": "@jupyter-widgets/controls",
            "_model_module_version": "1.5.0",
            "_model_name": "HTMLModel",
            "_view_count": null,
            "_view_module": "@jupyter-widgets/controls",
            "_view_module_version": "1.5.0",
            "_view_name": "HTMLView",
            "description": "",
            "description_tooltip": null,
            "layout": "IPY_MODEL_301197f90ea34eea95cc301373d76e6b",
            "placeholder": "​",
            "style": "IPY_MODEL_fb6156b9d9194156aa5150dd680cd070",
            "value": "Downloading (…)ml.ggmlv3.Q4_K_M.bin:  32%"
          }
        },
        "6f8763094b3b4192924e9030336daf57": {
          "model_module": "@jupyter-widgets/controls",
          "model_name": "FloatProgressModel",
          "model_module_version": "1.5.0",
          "state": {
            "_dom_classes": [],
            "_model_module": "@jupyter-widgets/controls",
            "_model_module_version": "1.5.0",
            "_model_name": "FloatProgressModel",
            "_view_count": null,
            "_view_module": "@jupyter-widgets/controls",
            "_view_module_version": "1.5.0",
            "_view_name": "ProgressView",
            "bar_style": "",
            "description": "",
            "description_tooltip": null,
            "layout": "IPY_MODEL_1960739721314a94ae053157a340a9fe",
            "max": 41380679296,
            "min": 0,
            "orientation": "horizontal",
            "style": "IPY_MODEL_a5a665d9206e47f7bec35aee6484a145",
            "value": 13075742720
          }
        },
        "c8f1804d994943ff987c621916ae3275": {
          "model_module": "@jupyter-widgets/controls",
          "model_name": "HTMLModel",
          "model_module_version": "1.5.0",
          "state": {
            "_dom_classes": [],
            "_model_module": "@jupyter-widgets/controls",
            "_model_module_version": "1.5.0",
            "_model_name": "HTMLModel",
            "_view_count": null,
            "_view_module": "@jupyter-widgets/controls",
            "_view_module_version": "1.5.0",
            "_view_name": "HTMLView",
            "description": "",
            "description_tooltip": null,
            "layout": "IPY_MODEL_5ef00b17a96a488588565e48930bc8c9",
            "placeholder": "​",
            "style": "IPY_MODEL_051a5bdd48ef4331a680afc001224910",
            "value": " 13.1G/41.4G [09:32&lt;20:42, 22.8MB/s]"
          }
        },
        "9d66fa5d6c5841a5a56d7a8a2ffa92e2": {
          "model_module": "@jupyter-widgets/base",
          "model_name": "LayoutModel",
          "model_module_version": "1.2.0",
          "state": {
            "_model_module": "@jupyter-widgets/base",
            "_model_module_version": "1.2.0",
            "_model_name": "LayoutModel",
            "_view_count": null,
            "_view_module": "@jupyter-widgets/base",
            "_view_module_version": "1.2.0",
            "_view_name": "LayoutView",
            "align_content": null,
            "align_items": null,
            "align_self": null,
            "border": null,
            "bottom": null,
            "display": null,
            "flex": null,
            "flex_flow": null,
            "grid_area": null,
            "grid_auto_columns": null,
            "grid_auto_flow": null,
            "grid_auto_rows": null,
            "grid_column": null,
            "grid_gap": null,
            "grid_row": null,
            "grid_template_areas": null,
            "grid_template_columns": null,
            "grid_template_rows": null,
            "height": null,
            "justify_content": null,
            "justify_items": null,
            "left": null,
            "margin": null,
            "max_height": null,
            "max_width": null,
            "min_height": null,
            "min_width": null,
            "object_fit": null,
            "object_position": null,
            "order": null,
            "overflow": null,
            "overflow_x": null,
            "overflow_y": null,
            "padding": null,
            "right": null,
            "top": null,
            "visibility": null,
            "width": null
          }
        },
        "301197f90ea34eea95cc301373d76e6b": {
          "model_module": "@jupyter-widgets/base",
          "model_name": "LayoutModel",
          "model_module_version": "1.2.0",
          "state": {
            "_model_module": "@jupyter-widgets/base",
            "_model_module_version": "1.2.0",
            "_model_name": "LayoutModel",
            "_view_count": null,
            "_view_module": "@jupyter-widgets/base",
            "_view_module_version": "1.2.0",
            "_view_name": "LayoutView",
            "align_content": null,
            "align_items": null,
            "align_self": null,
            "border": null,
            "bottom": null,
            "display": null,
            "flex": null,
            "flex_flow": null,
            "grid_area": null,
            "grid_auto_columns": null,
            "grid_auto_flow": null,
            "grid_auto_rows": null,
            "grid_column": null,
            "grid_gap": null,
            "grid_row": null,
            "grid_template_areas": null,
            "grid_template_columns": null,
            "grid_template_rows": null,
            "height": null,
            "justify_content": null,
            "justify_items": null,
            "left": null,
            "margin": null,
            "max_height": null,
            "max_width": null,
            "min_height": null,
            "min_width": null,
            "object_fit": null,
            "object_position": null,
            "order": null,
            "overflow": null,
            "overflow_x": null,
            "overflow_y": null,
            "padding": null,
            "right": null,
            "top": null,
            "visibility": null,
            "width": null
          }
        },
        "fb6156b9d9194156aa5150dd680cd070": {
          "model_module": "@jupyter-widgets/controls",
          "model_name": "DescriptionStyleModel",
          "model_module_version": "1.5.0",
          "state": {
            "_model_module": "@jupyter-widgets/controls",
            "_model_module_version": "1.5.0",
            "_model_name": "DescriptionStyleModel",
            "_view_count": null,
            "_view_module": "@jupyter-widgets/base",
            "_view_module_version": "1.2.0",
            "_view_name": "StyleView",
            "description_width": ""
          }
        },
        "1960739721314a94ae053157a340a9fe": {
          "model_module": "@jupyter-widgets/base",
          "model_name": "LayoutModel",
          "model_module_version": "1.2.0",
          "state": {
            "_model_module": "@jupyter-widgets/base",
            "_model_module_version": "1.2.0",
            "_model_name": "LayoutModel",
            "_view_count": null,
            "_view_module": "@jupyter-widgets/base",
            "_view_module_version": "1.2.0",
            "_view_name": "LayoutView",
            "align_content": null,
            "align_items": null,
            "align_self": null,
            "border": null,
            "bottom": null,
            "display": null,
            "flex": null,
            "flex_flow": null,
            "grid_area": null,
            "grid_auto_columns": null,
            "grid_auto_flow": null,
            "grid_auto_rows": null,
            "grid_column": null,
            "grid_gap": null,
            "grid_row": null,
            "grid_template_areas": null,
            "grid_template_columns": null,
            "grid_template_rows": null,
            "height": null,
            "justify_content": null,
            "justify_items": null,
            "left": null,
            "margin": null,
            "max_height": null,
            "max_width": null,
            "min_height": null,
            "min_width": null,
            "object_fit": null,
            "object_position": null,
            "order": null,
            "overflow": null,
            "overflow_x": null,
            "overflow_y": null,
            "padding": null,
            "right": null,
            "top": null,
            "visibility": null,
            "width": null
          }
        },
        "a5a665d9206e47f7bec35aee6484a145": {
          "model_module": "@jupyter-widgets/controls",
          "model_name": "ProgressStyleModel",
          "model_module_version": "1.5.0",
          "state": {
            "_model_module": "@jupyter-widgets/controls",
            "_model_module_version": "1.5.0",
            "_model_name": "ProgressStyleModel",
            "_view_count": null,
            "_view_module": "@jupyter-widgets/base",
            "_view_module_version": "1.2.0",
            "_view_name": "StyleView",
            "bar_color": null,
            "description_width": ""
          }
        },
        "5ef00b17a96a488588565e48930bc8c9": {
          "model_module": "@jupyter-widgets/base",
          "model_name": "LayoutModel",
          "model_module_version": "1.2.0",
          "state": {
            "_model_module": "@jupyter-widgets/base",
            "_model_module_version": "1.2.0",
            "_model_name": "LayoutModel",
            "_view_count": null,
            "_view_module": "@jupyter-widgets/base",
            "_view_module_version": "1.2.0",
            "_view_name": "LayoutView",
            "align_content": null,
            "align_items": null,
            "align_self": null,
            "border": null,
            "bottom": null,
            "display": null,
            "flex": null,
            "flex_flow": null,
            "grid_area": null,
            "grid_auto_columns": null,
            "grid_auto_flow": null,
            "grid_auto_rows": null,
            "grid_column": null,
            "grid_gap": null,
            "grid_row": null,
            "grid_template_areas": null,
            "grid_template_columns": null,
            "grid_template_rows": null,
            "height": null,
            "justify_content": null,
            "justify_items": null,
            "left": null,
            "margin": null,
            "max_height": null,
            "max_width": null,
            "min_height": null,
            "min_width": null,
            "object_fit": null,
            "object_position": null,
            "order": null,
            "overflow": null,
            "overflow_x": null,
            "overflow_y": null,
            "padding": null,
            "right": null,
            "top": null,
            "visibility": null,
            "width": null
          }
        },
        "051a5bdd48ef4331a680afc001224910": {
          "model_module": "@jupyter-widgets/controls",
          "model_name": "DescriptionStyleModel",
          "model_module_version": "1.5.0",
          "state": {
            "_model_module": "@jupyter-widgets/controls",
            "_model_module_version": "1.5.0",
            "_model_name": "DescriptionStyleModel",
            "_view_count": null,
            "_view_module": "@jupyter-widgets/base",
            "_view_module_version": "1.2.0",
            "_view_name": "StyleView",
            "description_width": ""
          }
        }
      }
    }
  },
  "cells": [
    {
      "cell_type": "markdown",
      "metadata": {
        "id": "view-in-github",
        "colab_type": "text"
      },
      "source": [
        "<a href=\"https://colab.research.google.com/github/JoshmStanley/ggml_models/blob/main/stable_beluga_ggml.ipynb\" target=\"_parent\"><img src=\"https://colab.research.google.com/assets/colab-badge.svg\" alt=\"Open In Colab\"/></a>"
      ]
    },
    {
      "cell_type": "markdown",
      "source": [
        "###Required packages"
      ],
      "metadata": {
        "id": "6d3ZwJ2iUpLn"
      }
    },
    {
      "cell_type": "code",
      "execution_count": 1,
      "metadata": {
        "colab": {
          "base_uri": "https://localhost:8080/"
        },
        "id": "ZPeC0Wk3InYx",
        "outputId": "265b3559-4814-461c-8bba-efa598e170d0"
      },
      "outputs": [
        {
          "output_type": "stream",
          "name": "stdout",
          "text": [
            "\u001b[2K     \u001b[90m━━━━━━━━━━━━━━━━━━━━━━━━━━━━━━━━━━━━━━━\u001b[0m \u001b[32m268.8/268.8 kB\u001b[0m \u001b[31m4.4 MB/s\u001b[0m eta \u001b[36m0:00:00\u001b[0m\n",
            "\u001b[2K     \u001b[90m━━━━━━━━━━━━━━━━━━━━━━━━━━━━━━━━━━━━━━━━\u001b[0m \u001b[32m7.4/7.4 MB\u001b[0m \u001b[31m18.1 MB/s\u001b[0m eta \u001b[36m0:00:00\u001b[0m\n",
            "\u001b[2K     \u001b[90m━━━━━━━━━━━━━━━━━━━━━━━━━━━━━━━━━━━━━━━━\u001b[0m \u001b[32m86.0/86.0 kB\u001b[0m \u001b[31m9.1 MB/s\u001b[0m eta \u001b[36m0:00:00\u001b[0m\n",
            "\u001b[?25h  Preparing metadata (setup.py) ... \u001b[?25l\u001b[?25hdone\n",
            "\u001b[2K     \u001b[90m━━━━━━━━━━━━━━━━━━━━━━━━━━━━━━━━━━━━━━\u001b[0m \u001b[32m244.2/244.2 kB\u001b[0m \u001b[31m23.1 MB/s\u001b[0m eta \u001b[36m0:00:00\u001b[0m\n",
            "\u001b[2K     \u001b[90m━━━━━━━━━━━━━━━━━━━━━━━━━━━━━━━━━━━━━━━━\u001b[0m \u001b[32m42.2/42.2 kB\u001b[0m \u001b[31m4.5 MB/s\u001b[0m eta \u001b[36m0:00:00\u001b[0m\n",
            "\u001b[2K     \u001b[90m━━━━━━━━━━━━━━━━━━━━━━━━━━━━━━━━━━━━━━━━\u001b[0m \u001b[32m7.8/7.8 MB\u001b[0m \u001b[31m39.3 MB/s\u001b[0m eta \u001b[36m0:00:00\u001b[0m\n",
            "\u001b[2K     \u001b[90m━━━━━━━━━━━━━━━━━━━━━━━━━━━━━━━━━━━━━━━━\u001b[0m \u001b[32m1.3/1.3 MB\u001b[0m \u001b[31m40.7 MB/s\u001b[0m eta \u001b[36m0:00:00\u001b[0m\n",
            "\u001b[2K     \u001b[90m━━━━━━━━━━━━━━━━━━━━━━━━━━━━━━━━━━━━━━━━\u001b[0m \u001b[32m1.3/1.3 MB\u001b[0m \u001b[31m45.6 MB/s\u001b[0m eta \u001b[36m0:00:00\u001b[0m\n",
            "\u001b[?25h  Building wheel for sentence_transformers (setup.py) ... \u001b[?25l\u001b[?25hdone\n"
          ]
        }
      ],
      "source": [
        "!pip -q install --upgrade huggingface_hub transformers sentence_transformers accelerate einops"
      ]
    },
    {
      "cell_type": "code",
      "source": [
        "CMAKE_ARGS=\"-DLLAMA_BLAS=ON -DLLAMA_BLAS_VENDOR=OpenBLAS\"\n",
        "FORCE_CMAKE=1"
      ],
      "metadata": {
        "id": "Bhvt83zwIs2S"
      },
      "execution_count": 2,
      "outputs": []
    },
    {
      "cell_type": "code",
      "source": [
        "!pip -q install --upgrade llama-cpp-python --no-cache-dir"
      ],
      "metadata": {
        "colab": {
          "base_uri": "https://localhost:8080/"
        },
        "id": "jQ55BT1qIu1d",
        "outputId": "4063976a-91f0-480c-c183-9397e5515cf5"
      },
      "execution_count": 3,
      "outputs": [
        {
          "output_type": "stream",
          "name": "stdout",
          "text": [
            "\u001b[?25l     \u001b[90m━━━━━━━━━━━━━━━━━━━━━━━━━━━━━━━━━━━━━━━━\u001b[0m \u001b[32m0.0/1.6 MB\u001b[0m \u001b[31m?\u001b[0m eta \u001b[36m-:--:--\u001b[0m\r\u001b[2K     \u001b[91m━━\u001b[0m\u001b[90m╺\u001b[0m\u001b[90m━━━━━━━━━━━━━━━━━━━━━━━━━━━━━━━━━━━━━\u001b[0m \u001b[32m0.1/1.6 MB\u001b[0m \u001b[31m2.5 MB/s\u001b[0m eta \u001b[36m0:00:01\u001b[0m\r\u001b[2K     \u001b[91m━━━━━━━━━━━━━━━\u001b[0m\u001b[90m╺\u001b[0m\u001b[90m━━━━━━━━━━━━━━━━━━━━━━━━\u001b[0m \u001b[32m0.6/1.6 MB\u001b[0m \u001b[31m9.2 MB/s\u001b[0m eta \u001b[36m0:00:01\u001b[0m\r\u001b[2K     \u001b[90m━━━━━━━━━━━━━━━━━━━━━━━━━━━━━━━━━━━━━━━━\u001b[0m \u001b[32m1.6/1.6 MB\u001b[0m \u001b[31m19.0 MB/s\u001b[0m eta \u001b[36m0:00:00\u001b[0m\n",
            "\u001b[?25h  Installing build dependencies ... \u001b[?25l\u001b[?25hdone\n",
            "  Getting requirements to build wheel ... \u001b[?25l\u001b[?25hdone\n",
            "  Preparing metadata (pyproject.toml) ... \u001b[?25l\u001b[?25hdone\n",
            "\u001b[2K     \u001b[90m━━━━━━━━━━━━━━━━━━━━━━━━━━━━━━━━━━━━━━━\u001b[0m \u001b[32m45.6/45.6 kB\u001b[0m \u001b[31m161.7 MB/s\u001b[0m eta \u001b[36m0:00:00\u001b[0m\n",
            "\u001b[?25h  Building wheel for llama-cpp-python (pyproject.toml) ... \u001b[?25l\u001b[?25hdone\n"
          ]
        }
      ]
    },
    {
      "cell_type": "markdown",
      "source": [
        "###Model setup"
      ],
      "metadata": {
        "id": "BDD5xkKGUyLR"
      }
    },
    {
      "cell_type": "code",
      "source": [
        "from huggingface_hub import hf_hub_download\n",
        "from llama_cpp import Llama\n",
        "\n",
        "model_id = \"jmstanley/stabilityai-StableBeluga2-GGML\"\n",
        "model_filename = \"Stable-Beluga-2-ggml.ggmlv3.Q4_K_M.bin\"\n",
        "model_path = hf_hub_download(repo_id=model_id, filename=model_filename)\n",
        "\n",
        "model = Llama(model_path=model_path,\n",
        "    #n_gpu_layers=40,\n",
        "    n_gqa=8,\n",
        "    n_batch = 256,\n",
        "    verbose=False,\n",
        "    n_ctx=2048,\n",
        "    f16_kv=True\n",
        ")"
      ],
      "metadata": {
        "colab": {
          "base_uri": "https://localhost:8080/",
          "height": 49,
          "referenced_widgets": [
            "ac25421ee40b498c8e055f7c37d9273e",
            "db6a64cbbce54316b198d16777f5b0b4",
            "6f8763094b3b4192924e9030336daf57",
            "c8f1804d994943ff987c621916ae3275",
            "9d66fa5d6c5841a5a56d7a8a2ffa92e2",
            "301197f90ea34eea95cc301373d76e6b",
            "fb6156b9d9194156aa5150dd680cd070",
            "1960739721314a94ae053157a340a9fe",
            "a5a665d9206e47f7bec35aee6484a145",
            "5ef00b17a96a488588565e48930bc8c9",
            "051a5bdd48ef4331a680afc001224910"
          ]
        },
        "id": "lGJ4r8o0I0_o",
        "outputId": "97eb1ada-2603-455a-b908-a584a79bbbdf"
      },
      "execution_count": null,
      "outputs": [
        {
          "output_type": "display_data",
          "data": {
            "text/plain": [
              "Downloading (…)ml.ggmlv3.Q4_K_M.bin:   0%|          | 0.00/41.4G [00:00<?, ?B/s]"
            ],
            "application/vnd.jupyter.widget-view+json": {
              "version_major": 2,
              "version_minor": 0,
              "model_id": "ac25421ee40b498c8e055f7c37d9273e"
            }
          },
          "metadata": {}
        }
      ]
    },
    {
      "cell_type": "markdown",
      "source": [
        "### Prompt format and a couple of basic prompts"
      ],
      "metadata": {
        "id": "SMOxrK4cU0sI"
      }
    },
    {
      "cell_type": "code",
      "source": [
        "#Basic function that formats the prompt in a way that will be useful to the model\n",
        "def format_prompt(system, examples, instruction, input):\n",
        "    template = f\"### System:\\n{system} \\n\\n### Examples:\\n{examples} \\n\\n### Instruction:\\n{instruction} \\n\\n### Input:\\n{input} \\n\\n### Response:\\n\"\n",
        "    return template\n",
        "\n",
        "prompts = [{'system': 'You are an AI assistant that helps extract concepts from documents related to clinical trials.',\n",
        "                        'examples': \"The overall survival of the enrolled patients from start the combination treatment of Irinotecan, Oxaliplatin, and S1. JSON {'endpoint': 'overall survival', 'endpoint-type': 'Efficacy'}\\n \\\n",
        "                                    Example:2 To evaluate the PK profile of GSK30238 on patients with NASH. JSON {endpoint: 'evaluate the PK profile of GSK30238', 'endpoint-type': 'Pharmacokinetics'}\\n \\\n",
        "                                    Example:3 To evaluate the safety of regorafenib. JSON {'endpoint': 'evaluate the safety of regorafenib', 'endpoint-type': 'Safety'}\",\n",
        "                        'instruction': \"Extract the endpoint from the following statement and return your result with the format {'endpoint': 'endpoint_name', 'endpoint-type': 'endpoint_type'}\",\n",
        "                        'input': \"To assess the efficacy and safety of GSK3923 on patients with HER2+ Breast Cancer\"},\n",
        "\n",
        "           {'system': 'You are an AI assistant that helps extract concepts from documents related to clinical trials.',\n",
        "                        'examples': \"The overall survival of the enrolled patients from start the combination treatment of Irinotecan, Oxaliplatin, and S1. {endpoint: 'overall survival', 'endpoint-type': 'Efficacy'} \\n \\\n",
        "                                    Example:2 To evaluate the PK profile of GSK30238 on patients with NASH. {endpoint: 'evaluate the PK profile of GSK30238', 'endpoint-type': 'Pharmacokinetics'}\\n \\\n",
        "                                    Example:3 To evaluate the safety of regorafenib. {'endpoint': 'evaluate the safety of regorafenib', 'endpoint-type': 'Safety'}\",\n",
        "                        'instruction': \"Extract the endpoint and the endpoint name from the following statement. Format the result in a JSON object like {'endpoint': 'endpoint_name', 'endpoint-type': 'endpoint_type'}. If there are multipe endpoints, put them in a list of JSON objects.\",\n",
        "                        'input': \"To assess the efficacy and safety of GSK3923 on patients with HER2+ Breast Cancer\"}]\n",
        "\n",
        "#Pass one of our prompts to the prompt format function\n",
        "prompt = format_prompt(prompts[1]['system'], prompts[1]['examples'], prompts[1]['instruction'], prompts[1]['input'])"
      ],
      "metadata": {
        "id": "SJGi_JreJK3Q"
      },
      "execution_count": null,
      "outputs": []
    },
    {
      "cell_type": "code",
      "source": [
        "#Pass the formatted prompt to the model then print the result.\n",
        "#Show entire prompt that was passed to the model and the models response after '### Response:'\n",
        "output = model(prompt, max_tokens=100, stop=[\"Q:\", \"\\n\", \"System\", \"Instruction\", \"Response\"], echo=True)\n",
        "print(output['choices'][0]['text'])"
      ],
      "metadata": {
        "colab": {
          "base_uri": "https://localhost:8080/"
        },
        "id": "5FYoqgV5JRZ8",
        "outputId": "68d60e14-404e-4e42-cdbe-b405c0ec0e6f"
      },
      "execution_count": 18,
      "outputs": [
        {
          "output_type": "stream",
          "name": "stdout",
          "text": [
            "### System:\n",
            "You are an AI assistant that helps extract concepts from documents related to clinical trials. \n",
            "\n",
            "### Examples:\n",
            "The overall survival of the enrolled patients from start the combination treatment of Irinotecan, Oxaliplatin, and S1. {endpoint: 'overall survival', 'endpoint-type': 'Efficacy'} \n",
            "                                     Example:2 To evaluate the PK profile of GSK30238 on patients with NASH. {endpoint: 'evaluate the PK profile of GSK30238', 'endpoint-type': 'Pharmacokinetics'}\n",
            "                                     Example:3 To evaluate the safety of regorafenib. {'endpoint': 'evaluate the safety of regorafenib', 'endpoint-type': 'Safety'} \n",
            "\n",
            "### Instruction:\n",
            "Extract the endpoint and the endpoint name from the following statement. Format the result in a JSON object like {'endpoint': 'endpoint_name', 'endpoint-type': 'endpoint_type'}. If there are multipe endpoints, put them in a list of JSON objects. \n",
            "\n",
            "### Input:\n",
            "To assess the efficacy and safety of GSK3923 on patients with HER2+ Breast Cancer \n",
            "\n",
            "### Response:\n",
            " [{'endpoint': 'assess the efficacy', 'endpoint-type': 'Efficacy'}, {'endpoint': 'assess the safety', 'endpoint-type': 'Safety'}]\n"
          ]
        }
      ]
    },
    {
      "cell_type": "code",
      "source": [],
      "metadata": {
        "id": "H81fjk0iJTNR"
      },
      "execution_count": null,
      "outputs": []
    }
  ]
}
